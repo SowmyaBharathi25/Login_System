{
 "cells": [
  {
   "cell_type": "code",
   "execution_count": 1,
   "id": "0d148a70",
   "metadata": {},
   "outputs": [],
   "source": [
    "import pandas as pd\n",
    "import re\n",
    "import csv\n",
    "List=[]\n",
    "\n",
    "###Email Validating\n",
    "def validate():\n",
    "    while True:\n",
    "        email=input('Enter a mail Id:')\n",
    "        pattern='[A-Za-z][\\w\\._]+@[A-Za-z]+\\.[A-Za-z]{2,}[\\.]?([A-Za-z]{0}|[A-Za-z]{2,})'\n",
    "        if re.fullmatch(pattern,email):\n",
    "            List.append(email)\n",
    "            break\n",
    "        else:\n",
    "            print(\"Please Enter a valid email\")\n",
    "            \n",
    "###Password Validating\n",
    "def validate_1():\n",
    "    while True:\n",
    "        password = input(\"Enter a password: \")\n",
    "        if len(password) < 5 or len(password) > 16:\n",
    "            print(\"Make sure your password is at least 5 letters and maximum 16 letters\")\n",
    "        elif re.search('[0-9]',password) is None:\n",
    "            print(\"Make sure your password has a number in it\")\n",
    "        elif re.search('[A-Z]',password) is None: \n",
    "            print(\"Make sure your password has a capital letter in it\")\n",
    "        elif re.search('[@.!_$*&%#?]',password) is None:\n",
    "            print(\"Make sure your password has special character in it\")\n",
    "        else:\n",
    "            List.append(password)\n",
    "            break\n",
    "\n",
    "###Saving the User Input in the file\n",
    "def appending():\n",
    "    f = open('assignment.csv','a')\n",
    "    writer = csv.writer(f)\n",
    "    writer.writerow(List)\n",
    "    f.close()"
   ]
  },
  {
   "cell_type": "markdown",
   "id": "7eb3e726",
   "metadata": {},
   "source": [
    "# Login Validation"
   ]
  },
  {
   "cell_type": "code",
   "execution_count": 13,
   "id": "5b7b6a14",
   "metadata": {},
   "outputs": [
    {
     "name": "stdout",
     "output_type": "stream",
     "text": [
      "Please choose 1 for Login or any other for Registeration:1\n",
      "Enter your mail ID:mani@gmail.com\n",
      "Enter your password:Qwerty@123\n",
      "Success\n"
     ]
    }
   ],
   "source": [
    "###Login and Registration Part\n",
    "def login():\n",
    "    flag=0\n",
    "    Response=int(input(\"Please choose 1 for Login or any other for Registeration:\"))\n",
    "    if Response==1:\n",
    "        Input_1=input(\"Enter your mail ID:\")\n",
    "        Input_2=input(\"Enter your password:\")\n",
    "        df=pd.read_csv('assignment.csv')\n",
    "        for a in df.User_Name:\n",
    "            if a==Input_1:\n",
    "                flag=1\n",
    "                number=df[df[\"User_Name\"]==Input_1].index.values\n",
    "                if df.at[number[0],\"Password\"]==Input_2:\n",
    "                    print(\"Success\")\n",
    "                    flag=2\n",
    "                    \n",
    "        ###Warning the user that the given password is wrong and asking the user whether the user wants to retrive it or not                \n",
    "        if flag==1:\n",
    "            Retrive=int(input(\"It seems your password is wrong\\nPress 1 to retrive your password or any other key for Registration:\"))\n",
    "            if Retrive==1:\n",
    "                for i in df.User_Name:\n",
    "                    if i==Input_1:\n",
    "                        a=df[df[\"User_Name\"]==Input_1].index.values\n",
    "                        print(df.at[a[0],\"Password\"])\n",
    "                        \n",
    "            ### if user chooses other than 1 it will go for registration            \n",
    "            else:\n",
    "                print(\"please register with us\")\n",
    "                validate()\n",
    "                validate_1()\n",
    "                appending()\n",
    "                \n",
    "        ###After checking the user's input in the file, showing the user that the credential are not matched with the file and the user needs to register to continue        \n",
    "        elif flag==0:\n",
    "            print(\"This email is not registered with us\\nPlease Register\")\n",
    "            validate()\n",
    "            validate_1()\n",
    "            appending()\n",
    "        \n",
    "    else:\n",
    "        validate()\n",
    "        validate_1()\n",
    "        appending()\n",
    "\n",
    "login()"
   ]
  },
  {
   "cell_type": "code",
   "execution_count": 12,
   "id": "e98bdbc4",
   "metadata": {},
   "outputs": [
    {
     "data": {
      "text/plain": [
       "(21, 2)"
      ]
     },
     "execution_count": 12,
     "metadata": {},
     "output_type": "execute_result"
    }
   ],
   "source": [
    "df=pd.read_csv('assignment.csv')\n",
    "df.shape"
   ]
  }
 ],
 "metadata": {
  "kernelspec": {
   "display_name": "Python 3 (ipykernel)",
   "language": "python",
   "name": "python3"
  },
  "language_info": {
   "codemirror_mode": {
    "name": "ipython",
    "version": 3
   },
   "file_extension": ".py",
   "mimetype": "text/x-python",
   "name": "python",
   "nbconvert_exporter": "python",
   "pygments_lexer": "ipython3",
   "version": "3.9.7"
  }
 },
 "nbformat": 4,
 "nbformat_minor": 5
}
